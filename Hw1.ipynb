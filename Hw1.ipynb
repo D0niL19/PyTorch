{
  "nbformat": 4,
  "nbformat_minor": 0,
  "metadata": {
    "colab": {
      "provenance": []
    },
    "kernelspec": {
      "name": "python3",
      "display_name": "Python 3"
    },
    "language_info": {
      "name": "python"
    }
  },
  "cells": [
    {
      "cell_type": "code",
      "execution_count": 1,
      "metadata": {
        "colab": {
          "base_uri": "https://localhost:8080/"
        },
        "id": "KKBSQ8n7OxwS",
        "outputId": "a5cf3c13-310e-44a1-d025-b7b431612141"
      },
      "outputs": [
        {
          "output_type": "execute_result",
          "data": {
            "text/plain": [
              "False"
            ]
          },
          "metadata": {},
          "execution_count": 1
        }
      ],
      "source": [
        "import torch\n",
        "import numpy as np\n",
        "torch.cuda.is_available()"
      ]
    },
    {
      "cell_type": "markdown",
      "source": [
        "ДЗ 1"
      ],
      "metadata": {
        "id": "J-0HUspiVPrN"
      }
    },
    {
      "cell_type": "code",
      "source": [
        "class Neuron(torch.nn.Module):\n",
        "  def __init__(self):\n",
        "    super().__init__()\n",
        "    self.fc = torch.nn.Linear(in_features=1, out_features=1)\n",
        "\n",
        "  def forward(self, x):\n",
        "    return torch.heaviside(self.fc(x), torch.tensor([0.0]))"
      ],
      "metadata": {
        "id": "1sOblrLDf9R7"
      },
      "execution_count": 2,
      "outputs": []
    },
    {
      "cell_type": "code",
      "source": [
        "neuron = Neuron()\n",
        "neuron.fc.weight, neuron.fc.bias"
      ],
      "metadata": {
        "colab": {
          "base_uri": "https://localhost:8080/"
        },
        "id": "AWxE9UG2ycCf",
        "outputId": "5fcc03ce-1859-4d2b-b689-a6706eee0424"
      },
      "execution_count": 3,
      "outputs": [
        {
          "output_type": "execute_result",
          "data": {
            "text/plain": [
              "(Parameter containing:\n",
              " tensor([[-0.1672]], requires_grad=True), Parameter containing:\n",
              " tensor([-0.2944], requires_grad=True))"
            ]
          },
          "metadata": {},
          "execution_count": 3
        }
      ]
    },
    {
      "cell_type": "code",
      "source": [
        "neuron.fc.weight.data = torch.tensor([[1.0]])\n",
        "neuron.fc.bias.data = torch.tensor([0.0])"
      ],
      "metadata": {
        "id": "GFtsTICryQld"
      },
      "execution_count": 4,
      "outputs": []
    },
    {
      "cell_type": "markdown",
      "source": [],
      "metadata": {
        "id": "f4akY0QvyZUh"
      }
    },
    {
      "cell_type": "code",
      "source": [
        "x1 = torch.tensor([0.0])\n",
        "x2 = torch.tensor([0.0])\n",
        "neuron(-1.5 + neuron(x1 + x2 -0.5) + neuron((-x1 -x2 +1.5)))"
      ],
      "metadata": {
        "colab": {
          "base_uri": "https://localhost:8080/"
        },
        "id": "JRI87JBYyRID",
        "outputId": "5cc0a454-8c0b-4e8c-cfc0-ba0fdebfa757"
      },
      "execution_count": 5,
      "outputs": [
        {
          "output_type": "execute_result",
          "data": {
            "text/plain": [
              "tensor([0.], grad_fn=<NotImplemented>)"
            ]
          },
          "metadata": {},
          "execution_count": 5
        }
      ]
    },
    {
      "cell_type": "markdown",
      "source": [
        "ДЗ 3"
      ],
      "metadata": {
        "id": "TRQBCAYLVI6T"
      }
    },
    {
      "cell_type": "code",
      "source": [
        "#a = torch.randn(int(10e8*3), dtype = torch.float32)\n",
        "#print(a.dtype) # 10e8*3 < a < 10e8*4 float32\n",
        "\n",
        "#b = torch.randn(int(10e8*1.5), dtype = torch.float64) \n",
        "#print(b.dtype) # 10e8*1.5 < b < 10e8*2 float64\n",
        "\n",
        "#c = torch.randn(int(10e8*6), dtype = torch.float16) \n",
        "#print(c.dtype) # 10e8*6 < c < 10e8*7 float16\n",
        "\n",
        "#d = torch.randint(3, 10, (int(10e8*8), 1), dtype = torch.int32)\n",
        "#print(d.dtype) # 10e8*8 < d < 10e8*8.5 int32\n",
        "\n",
        "#e = torch.randint(3, 10, (int(10e8*1.5), 1), dtype = torch.int64)\n",
        "#print(d.dtype) # 10e8*1.5 < e < 10e8*2 int64\n",
        "\n"
      ],
      "metadata": {
        "id": "us-kpPgccsqQ"
      },
      "execution_count": 6,
      "outputs": []
    },
    {
      "cell_type": "markdown",
      "source": [
        "ДЗ 4"
      ],
      "metadata": {
        "id": "IG2jP23CVVec"
      }
    },
    {
      "cell_type": "code",
      "source": [
        "q = torch.randn(int(10e15), dtype = torch.float64) #даже не попробует выделить память\n",
        "p = torch.randn(int(10e10), dtype = torch.float64) #будет выделять память пока она не заполнится и перезапустится"
      ],
      "metadata": {
        "colab": {
          "base_uri": "https://localhost:8080/",
          "height": 183
        },
        "id": "enhddcDOVXUK",
        "outputId": "8d5e831e-903a-4d15-d206-64a40fcf6222"
      },
      "execution_count": 8,
      "outputs": [
        {
          "output_type": "error",
          "ename": "RuntimeError",
          "evalue": "ignored",
          "traceback": [
            "\u001b[0;31m---------------------------------------------------------------------------\u001b[0m",
            "\u001b[0;31mRuntimeError\u001b[0m                              Traceback (most recent call last)",
            "\u001b[0;32m<ipython-input-8-2c50b8a5a50a>\u001b[0m in \u001b[0;36m<module>\u001b[0;34m\u001b[0m\n\u001b[0;32m----> 1\u001b[0;31m \u001b[0ma\u001b[0m \u001b[0;34m=\u001b[0m \u001b[0mtorch\u001b[0m\u001b[0;34m.\u001b[0m\u001b[0mrandn\u001b[0m\u001b[0;34m(\u001b[0m\u001b[0mint\u001b[0m\u001b[0;34m(\u001b[0m\u001b[0;36m10e15\u001b[0m\u001b[0;34m)\u001b[0m\u001b[0;34m,\u001b[0m \u001b[0mdtype\u001b[0m \u001b[0;34m=\u001b[0m \u001b[0mtorch\u001b[0m\u001b[0;34m.\u001b[0m\u001b[0mfloat64\u001b[0m\u001b[0;34m)\u001b[0m \u001b[0;31m#даже не попробует выделить память\u001b[0m\u001b[0;34m\u001b[0m\u001b[0;34m\u001b[0m\u001b[0m\n\u001b[0m",
            "\u001b[0;31mRuntimeError\u001b[0m: [enforce fail at alloc_cpu.cpp:66] . DefaultCPUAllocator: can't allocate memory: you tried to allocate 80000000000000000 bytes. Error code 12 (Cannot allocate memory)"
          ]
        }
      ]
    },
    {
      "cell_type": "markdown",
      "source": [
        "ДЗ 5"
      ],
      "metadata": {
        "id": "VFH0lMihjn3H"
      }
    },
    {
      "cell_type": "code",
      "source": [
        "x = torch.randn(int(200), int(10e4))\n",
        "linear = torch.nn.Linear(int(10e4), int(10e3*3))"
      ],
      "metadata": {
        "id": "soQmHfB3V7BD"
      },
      "execution_count": 2,
      "outputs": []
    },
    {
      "cell_type": "code",
      "source": [
        "out = linear(x)\n",
        "out.shape\n",
        "#создалась матрица, на память, вроде как, никак не повлияло"
      ],
      "metadata": {
        "colab": {
          "base_uri": "https://localhost:8080/"
        },
        "id": "P0aMVnrBkVQG",
        "outputId": "bf30d33a-7b45-4259-fe13-2cdfc0570caf"
      },
      "execution_count": 4,
      "outputs": [
        {
          "output_type": "execute_result",
          "data": {
            "text/plain": [
              "torch.Size([200, 30000])"
            ]
          },
          "metadata": {},
          "execution_count": 4
        }
      ]
    },
    {
      "cell_type": "markdown",
      "source": [],
      "metadata": {
        "id": "kmTHNm9bkVCI"
      }
    }
  ]
}